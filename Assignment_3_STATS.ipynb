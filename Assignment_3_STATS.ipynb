{
 "cells": [
  {
   "cell_type": "markdown",
   "id": "114f9e01",
   "metadata": {},
   "source": [
    "Q1. For a group of 7 people, find the probability that all 4 seasons (winter, spring, summer, fall) occur at least once each among their birthdays, assuming that all seasons are equally likely.\n",
    "\n",
    "    Answer\n",
    "\n",
    "    Given that seasons are equally likely and all 4 seasons (winter, spring, summer, fall) occur at least once each among their birthdays\n",
    "\n",
    "    Total outcomes: Each person is allotted a season out of 4. Hence 48 possibilities\n",
    "\n",
    "    Number of Outcomes that one or more season has no student having their birthday:\n",
    "\n",
    "    Using Inclusion and Exclusion, 4C1*38 - 4C2*28 + 4C3*18  [i.e. Exclude 1 season - Exclude 2 season + exclude 3 season, also note that we can't exclude all the 4 seasons]\n",
    "\n",
    "    Probability that one or more season has no student having their birthday:\n",
    "\n",
    "    (4C1*38 - 4C2*28 + 4C3*18  ) / 48 = 0.377\n",
    "\n",
    "    Required probability that all 4 seasons (winter, spring, summer, fall) occur at least once each among their birthdays:\n",
    "\n",
    "    1-0.377=0.623"
   ]
  },
  {
   "cell_type": "code",
   "execution_count": null,
   "id": "6d9d0818",
   "metadata": {},
   "outputs": [],
   "source": []
  }
 ],
 "metadata": {
  "kernelspec": {
   "display_name": "Python 3",
   "language": "python",
   "name": "python3"
  },
  "language_info": {
   "codemirror_mode": {
    "name": "ipython",
    "version": 3
   },
   "file_extension": ".py",
   "mimetype": "text/x-python",
   "name": "python",
   "nbconvert_exporter": "python",
   "pygments_lexer": "ipython3",
   "version": "3.8.8"
  }
 },
 "nbformat": 4,
 "nbformat_minor": 5
}
